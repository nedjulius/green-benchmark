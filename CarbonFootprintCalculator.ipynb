{
 "cells": [
  {
   "cell_type": "code",
   "execution_count": 1,
   "metadata": {},
   "outputs": [],
   "source": [
    "import numpy as np\n",
    "import pandas as pd\n",
    "import pandas_datareader as pdr"
   ]
  },
  {
   "cell_type": "markdown",
   "metadata": {},
   "source": [
    "Initializing files"
   ]
  },
  {
   "cell_type": "code",
   "execution_count": 2,
   "metadata": {},
   "outputs": [],
   "source": [
    "EmissionsPerCar = pd.read_csv('CO2_Emissions.csv')"
   ]
  },
  {
   "cell_type": "code",
   "execution_count": 4,
   "metadata": {},
   "outputs": [
    {
     "name": "stdout",
     "output_type": "stream",
     "text": [
      "The car with the best rating is a HYUNDAI IONIQ BLUE with a rating of 5.4375\n",
      "The car with the worst rating is BUGATTI CHIRON with a rating of 1.0\n",
      "The average rating of the 7200 car models is 2.202279788298211\n"
     ]
    }
   ],
   "source": [
    "CarRating = pd.DataFrame(columns= ['Make', 'Model', 'max', 'Rating'])\n",
    "CarRating['Make'] = EmissionsPerCar['Make']\n",
    "CarRating['Model'] = EmissionsPerCar['Model']\n",
    "\n",
    "CarRating['Rating'] = 1/(EmissionsPerCar['CO2 Emissions(g/km)']/522)\n",
    "max_rating = CarRating.loc[CarRating['Rating'].idxmax()]\n",
    "min_rating = CarRating.loc[CarRating['Rating'].idxmin()]\n",
    "AverageRating = CarRating['Rating'].mean()\n",
    "\n",
    "print(\"The car with the best rating is a \" + str(max_rating['Make']) +\" \" + str(max_rating['Model']) + \" with a rating of \" + str(max_rating['Rating']))\n",
    "print(\"The car with the worst rating is \"+ str(min_rating['Make']) +\" \" + str(min_rating['Model']) + \" with a rating of \" + str(min_rating['Rating']))\n",
    "print(\"The average rating of the 7200 car models is \" + str(AverageRating))\n"
   ]
  }
 ],
 "metadata": {
  "kernelspec": {
   "display_name": "Python 3",
   "language": "python",
   "name": "python3"
  },
  "language_info": {
   "codemirror_mode": {
    "name": "ipython",
    "version": 3
   },
   "file_extension": ".py",
   "mimetype": "text/x-python",
   "name": "python",
   "nbconvert_exporter": "python",
   "pygments_lexer": "ipython3",
   "version": "3.10.0"
  },
  "orig_nbformat": 4
 },
 "nbformat": 4,
 "nbformat_minor": 2
}
